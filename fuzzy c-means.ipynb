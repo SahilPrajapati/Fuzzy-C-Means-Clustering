{
 "cells": [
  {
   "cell_type": "code",
   "execution_count": 5,
   "metadata": {},
   "outputs": [],
   "source": [
    "### Importing the required Libraries\n",
    "\n",
    "import pandas as pd\n",
    "import numpy as np\n",
    "import random\n",
    "import operator\n",
    "import math"
   ]
  },
  {
   "cell_type": "code",
   "execution_count": 6,
   "metadata": {},
   "outputs": [],
   "source": [
    "### reading the input csv file \n",
    "\n",
    "df_full = pd.read_csv(\"Downloads/SPECTF_New.csv\")\n",
    "columns = list(df_full.columns)\n",
    "features = columns[:len(columns)-1]\n",
    "class_labels = list(df_full[columns[-1]])\n",
    "df = df_full[features]"
   ]
  },
  {
   "cell_type": "code",
   "execution_count": 7,
   "metadata": {},
   "outputs": [],
   "source": [
    "# Number of Attributes\n",
    "num_attr = len(df.columns) - 1\n",
    "\n",
    "# Number of Clusters to make\n",
    "k = 2\n",
    "\n",
    "# Maximum number of iterations\n",
    "MAX_ITER = 100\n",
    "\n",
    "# Number of data points\n",
    "n = len(df)\n",
    "\n",
    "# Fuzzy parameter\n",
    "m = 2.00"
   ]
  },
  {
   "cell_type": "code",
   "execution_count": 8,
   "metadata": {},
   "outputs": [],
   "source": [
    "#### accuracy function for measuring the accuracy of our result\n",
    "\n",
    "def accuracy(cluster_labels, class_labels):\n",
    "    county = [0,0]\n",
    "    countn = [0,0]\n",
    "    tp = [0, 0]\n",
    "    tn = [0, 0]\n",
    "    fp = [0, 0]\n",
    "    fn = [0, 0]\n",
    "    \n",
    "    for i in range(len(df)):\n",
    "        # Yes = 1, No = 0\n",
    "        if cluster_labels[i] == 1 and class_labels[i] == 'Yes':\n",
    "            tp[0] = tp[0] + 1\n",
    "        if cluster_labels[i] == 0 and class_labels[i] == 'No':\n",
    "            tn[0] = tn[0] + 1\n",
    "        if cluster_labels[i] == 1 and class_labels[i] == 'No':\n",
    "            fp[0] = fp[0] + 1\n",
    "        if cluster_labels[i] == 0 and class_labels[i] == 'Yes':\n",
    "            fn[0] = fn[0] + 1\n",
    "    \n",
    "    for i in range(len(df)):\n",
    "        # Yes = 0, No = 1\n",
    "        if cluster_labels[i] == 0 and class_labels[i] == 'Yes':\n",
    "            tp[1] = tp[1] + 1\n",
    "        if cluster_labels[i] == 1 and class_labels[i] == 'No':\n",
    "            tn[1] = tn[1] + 1\n",
    "        if cluster_labels[i] == 0 and class_labels[i] == 'No':\n",
    "            fp[1] = fp[1] + 1\n",
    "        if cluster_labels[i] == 1 and class_labels[i] == 'Yes':\n",
    "            fn[1] = fn[1] + 1\n",
    "    \n",
    "    a0 = float((tp[0] + tn[0]))/(tp[0] + tn[0] + fn[0] + fp[0])\n",
    "    a1 = float((tp[1] + tn[1]))/(tp[1] + tn[1] + fn[1] + fp[1])\n",
    "    p0 = float(tp[0])/(tp[0] + fp[0])\n",
    "    p1 = float(tp[1])/(tp[1] + fp[1])\n",
    "    r0 = float(tp[0])/(tp[0] + fn[0])\n",
    "    r1 = float(tp[1])/(tp[1] + fn[1])\n",
    "    \n",
    "    accuracy = [a0*100,a1*100]\n",
    "    precision = [p0*100,p1*100]\n",
    "    recall = [r0*100,r1*100]\n",
    "    \n",
    "    return accuracy, precision, recall\n"
   ]
  },
  {
   "cell_type": "code",
   "execution_count": 9,
   "metadata": {},
   "outputs": [],
   "source": [
    "### initializing the membership matrix with random values\n",
    "\n",
    "def initializeMembershipMatrix():\n",
    "    membership_mat = list()\n",
    "    for i in range(n):\n",
    "        random_num_list = [random.random() for i in range(k)]\n",
    "        summation = sum(random_num_list)\n",
    "        temp_list = [x/summation for x in random_num_list]\n",
    "        membership_mat.append(temp_list)\n",
    "    return membership_mat\n"
   ]
  },
  {
   "cell_type": "code",
   "execution_count": 10,
   "metadata": {},
   "outputs": [],
   "source": [
    "### calculating the cluster center, is done in every iteration\n",
    "\n",
    "def calculateClusterCenter(membership_mat):\n",
    "    cluster_mem_val = zip(*membership_mat)\n",
    "    cluster_centers = list()\n",
    "    for j in range(k):\n",
    "        x = list(cluster_mem_val[j])\n",
    "        xraised = [e ** m for e in x]\n",
    "        denominator = sum(xraised)\n",
    "        temp_num = list()\n",
    "        for i in range(n):\n",
    "            data_point = list(df.iloc[i])\n",
    "            prod = [xraised[i] * val for val in data_point]\n",
    "            temp_num.append(prod)\n",
    "        numerator = map(sum, zip(*temp_num))\n",
    "        center = [z/denominator for z in numerator]\n",
    "        cluster_centers.append(center)\n",
    "    return cluster_centers\n"
   ]
  },
  {
   "cell_type": "code",
   "execution_count": 11,
   "metadata": {},
   "outputs": [],
   "source": [
    "### updating the membership values using the cluster centers\n",
    "\n",
    "def updateMembershipValue(membership_mat, cluster_centers):\n",
    "    p = float(2/(m-1))\n",
    "    for i in range(n):\n",
    "        x = list(df.iloc[i])\n",
    "        distances = [np.linalg.norm(map(operator.sub, x, cluster_centers[j])) for j in range(k)]\n",
    "        for j in range(k):\n",
    "            den = sum([math.pow(float(distances[j]/distances[c]), p) for c in range(k)])\n",
    "            membership_mat[i][j] = float(1/den)       \n",
    "    return membership_mat\n"
   ]
  },
  {
   "cell_type": "code",
   "execution_count": 12,
   "metadata": {},
   "outputs": [],
   "source": [
    "def getClusters(membership_mat):\n",
    "    cluster_labels = list()\n",
    "    for i in range(n):\n",
    "        max_val, idx = max((val, idx) for (idx, val) in enumerate(membership_mat[i]))\n",
    "        cluster_labels.append(idx)\n",
    "    return cluster_labels\n"
   ]
  },
  {
   "cell_type": "code",
   "execution_count": 13,
   "metadata": {},
   "outputs": [],
   "source": [
    "### the final fcm function, \n",
    "\n",
    "\n",
    "def fuzzyCMeansClustering():\n",
    "    # Membership Matrix\n",
    "    membership_mat = initializeMembershipMatrix()\n",
    "    curr = 0\n",
    "    while curr <= MAX_ITER:\n",
    "        cluster_centers = calculateClusterCenter(membership_mat)\n",
    "        membership_mat = updateMembershipValue(membership_mat, cluster_centers)\n",
    "        cluster_labels = getClusters(membership_mat)\n",
    "        curr += 1\n",
    "    \n",
    "    print(membership_mat)\n",
    "    return cluster_labels, cluster_centers"
   ]
  },
  {
   "cell_type": "code",
   "execution_count": 17,
   "metadata": {},
   "outputs": [
    {
     "name": "stdout",
     "output_type": "stream",
     "text": [
      "printing the final membership matrix\n",
      "[[0.5051153875457133, 0.4948846124542868], [0.497091885286668, 0.5029081147133321], [0.4995368511117752, 0.5004631488882247], [0.4967459916886034, 0.5032540083113967], [0.5023631323245978, 0.49763686767540205], [0.5064339043285313, 0.49356609567146875], [0.5037544797163179, 0.49624552028368213], [0.5049861933288062, 0.4950138066711939], [0.5016478205040183, 0.4983521794959816], [0.5067834555906354, 0.49321654440936447], [0.5036250638934782, 0.4963749361065218], [0.5031715613935485, 0.4968284386064516], [0.49889474909441606, 0.5011052509055839], [0.5047621031453486, 0.4952378968546512], [0.5052713975358885, 0.49472860246411154], [0.5028975205834075, 0.4971024794165924], [0.5072876669308622, 0.49271233306913764], [0.5018817117626518, 0.4981182882373482], [0.5012616810666407, 0.4987383189333593], [0.4948618259430261, 0.505138174056974], [0.5054949272716329, 0.494505072728367], [0.5059981618948947, 0.49400183810510534], [0.49524046978307223, 0.5047595302169278], [0.5044640086207645, 0.4955359913792355], [0.5053071968090063, 0.4946928031909938], [0.5011825448563482, 0.4988174551436519], [0.50335433057249, 0.49664566942751], [0.5040106390009623, 0.49598936099903773], [0.5064454914035645, 0.49355450859643546], [0.5084706864242411, 0.4915293135757589], [0.4977536575739624, 0.5022463424260376], [0.49881572571992533, 0.5011842742800746], [0.5083348095303786, 0.49166519046962137], [0.5056572584124531, 0.4943427415875468], [0.5010892198587916, 0.4989107801412084], [0.5046001943793395, 0.4953998056206606], [0.4987433258535045, 0.5012566741464956], [0.49473806465391335, 0.5052619353460867], [0.5084320599442235, 0.4915679400557764], [0.5034355330578004, 0.49656446694219963], [0.5072165490485626, 0.4927834509514374], [0.502540126726435, 0.497459873273565], [0.5071393377318153, 0.49286066226818487], [0.5040276215914226, 0.49597237840857744], [0.4965124140386637, 0.5034875859613362], [0.5034221446497307, 0.4965778553502693], [0.5078505368283883, 0.4921494631716117], [0.5051899928680456, 0.4948100071319544], [0.49944354611050823, 0.5005564538894918], [0.49526223345823517, 0.5047377665417649], [0.49581737795101993, 0.5041826220489801], [0.507485431991158, 0.4925145680088419], [0.49682786343744123, 0.5031721365625589], [0.4961801540792084, 0.5038198459207917], [0.4963970545037243, 0.5036029454962758], [0.5020971752927421, 0.4979028247072579], [0.49639276480084643, 0.5036072351991535], [0.4984122206325084, 0.5015877793674917], [0.5018575505295712, 0.49814244947042874], [0.499240709551194, 0.5007592904488061], [0.5001350299269931, 0.499864970073007], [0.5061912909320828, 0.49380870906791724], [0.5075738562351274, 0.4924261437648726], [0.5069889675469146, 0.4930110324530854], [0.507425211142518, 0.49257478885748196], [0.5022977298257595, 0.49770227017424046], [0.5032340848265797, 0.4967659151734202], [0.50209841160559, 0.4979015883944101], [0.5071242210712009, 0.49287577892879914], [0.5072402605324399, 0.49275973946756013], [0.5050833393407295, 0.4949166606592704], [0.5061436591610966, 0.49385634083890323], [0.508310626891002, 0.49168937310899796], [0.49990185100177664, 0.5000981489982235], [0.5069174103483738, 0.49308258965162616], [0.4999331421630693, 0.5000668578369307], [0.5003370072300559, 0.49966299276994414], [0.5091105228291086, 0.4908894771708915], [0.4968392900744941, 0.5031607099255059], [0.49530991710306543, 0.5046900828969345], [0.5057436845408445, 0.49425631545915544], [0.5044664560163231, 0.4955335439836769], [0.5085326881112012, 0.4914673118887988], [0.5029925287928145, 0.49700747120718547], [0.5068093889465792, 0.4931906110534208], [0.5063635881561087, 0.4936364118438914], [0.5040391355027014, 0.4959608644972985], [0.5024282409572635, 0.4975717590427367], [0.5041685358935177, 0.49583146410648227], [0.5069758770333416, 0.4930241229666584], [0.5064592888509242, 0.493540711149076], [0.49572274125379967, 0.5042772587462003], [0.4988382358592315, 0.5011617641407685], [0.5064909273141215, 0.4935090726858784], [0.5059726822184892, 0.4940273177815107], [0.49973673814483793, 0.5002632618551621], [0.49820202954994847, 0.5017979704500515], [0.507768989892193, 0.4922310101078071], [0.5026638027825445, 0.49733619721745537], [0.4984489332978168, 0.5015510667021832], [0.5037423729352002, 0.49625762706479976], [0.49881633405363535, 0.5011836659463647], [0.4987436963704771, 0.5012563036295229], [0.4972443101561445, 0.5027556898438555], [0.5042542049672645, 0.4957457950327355], [0.4978116758976847, 0.5021883241023153], [0.5058128297925836, 0.4941871702074165], [0.4963136651700726, 0.5036863348299274], [0.499209520906895, 0.5007904790931049], [0.5085270153948476, 0.4914729846051525]]\n",
      "printing cluster centers\n",
      "[[67.43889168110792, 66.85865851581917, 69.50338954556487, 70.2662442540695, 67.20466882925598, 67.25575957787731, 71.33291950222416, 71.23719833685495, 63.90962089501576, 63.536850552705246, 70.08497406917755, 70.70118519739397, 68.02678922820668, 69.05297527524, 64.2485198412643, 62.02977081479516, 68.43110972340315, 67.39772644487574, 66.58158789776918, 64.4446606473212, 74.2660902877058, 72.9767519146023, 68.43126789428179, 68.20416196135622, 60.37051025925951, 59.455775141966505, 62.87717628551733, 61.73842388775635, 64.34109117392329, 63.4697402868181, 71.69975927264782, 72.23576026077245, 62.17465599783901, 62.45339907766632, 65.42202282221179, 64.87465021178114, 65.7344308486109, 64.92846451883706, 68.9879899886581, 67.60868287848896, 66.22169168418893, 64.50045721036508, 55.7395438721181, 54.33990782840569], [67.45228599551804, 66.85049717953771, 69.47832876017137, 70.20616776369275, 67.1586864476387, 67.16177014404705, 71.32174693603547, 71.19897825075176, 63.89033662225865, 63.49931633433553, 70.07874163640736, 70.68067785994505, 67.9545195602914, 68.94631973252612, 64.13237590246324, 61.85980240121962, 68.40516315654395, 67.34739616787401, 66.52696498578491, 64.35474663478945, 74.26125332951328, 72.93205863645137, 68.31330712293659, 68.03090976639271, 60.11845490388521, 59.160043606165466, 62.79508977241422, 61.62447738972633, 64.24017989942435, 63.31110089381126, 71.6637129185551, 72.14551627855157, 62.134206257953885, 62.38247680546182, 65.37771798183448, 64.79758277682711, 65.72012361618245, 64.88960925822853, 68.86568896033664, 67.46309427525165, 65.99470889508106, 64.20627225099639, 55.49492464149275, 54.03949944496124]]\n"
     ]
    }
   ],
   "source": [
    "### calling the main function and storing the final results in labels, centers\n",
    "\n",
    "print(\"printing the final membership matrix\")\n",
    "\n",
    "labels, centers = fuzzyCMeansClustering()\n",
    "\n",
    "print(\"printing cluster centers\")\n",
    "print(centers)\n"
   ]
  },
  {
   "cell_type": "code",
   "execution_count": 18,
   "metadata": {},
   "outputs": [
    {
     "name": "stdout",
     "output_type": "stream",
     "text": [
      "Accuracy = [74.54545454545455, 25.454545454545453]\n",
      "Precision = [88.57142857142857, 32.0]\n",
      "Recall = [56.36363636363636, 43.63636363636363]\n"
     ]
    }
   ],
   "source": [
    "### measuring the accuracy of the result\n",
    "\n",
    "a,p,r = accuracy(labels, class_labels)\n",
    "\n",
    "### printing the values\n",
    "\n",
    "print(\"Accuracy = \" + str(a))\n",
    "print(\"Precision = \" + str(p))\n",
    "print(\"Recall = \" + str(r))"
   ]
  }
 ],
 "metadata": {
  "kernelspec": {
   "display_name": "Python 2",
   "language": "python",
   "name": "python2"
  },
  "language_info": {
   "codemirror_mode": {
    "name": "ipython",
    "version": 2
   },
   "file_extension": ".py",
   "mimetype": "text/x-python",
   "name": "python",
   "nbconvert_exporter": "python",
   "pygments_lexer": "ipython2",
   "version": "2.7.12"
  }
 },
 "nbformat": 4,
 "nbformat_minor": 2
}
